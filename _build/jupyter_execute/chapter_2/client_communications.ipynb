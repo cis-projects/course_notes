{
 "cells": [
  {
   "cell_type": "markdown",
   "metadata": {
    "collapsed": false
   },
   "source": [
    "# Chapter 2: Client Communications\n",
    "\n",
    "In this subject, your team will be delivering a project to a client.\n",
    "Most students are likely to only have had experience mostly with\n",
    "university assignments and will be unfamiliar with how to interaction\n",
    "with a client.\n",
    "\n",
    "Your client will be assigned by the Subject Coordinator, and once your\n",
    "client is assigned, you should contact them and work closely with them\n",
    "throughout the semester.\n",
    "\n",
    "You will need them to:\n",
    "\n",
    "1.  Aid your team in developing requirements for your system.\n",
    "2.  Review progress after each sprint.\n",
    "3.  Provide feedback for prototypes.\n",
    "\n",
    "It is imperative that you communicate all important product decisions\n",
    "with your client and involve them by seeking their feedback.\n",
    "\n",
    "Communication with the client takes place through the Product Owner -\n",
    "they are the conduit of information between the team and the client, and\n",
    "as such, will be responsible for emailing the client with updates,\n",
    "invitations for meetings, etc.\n",
    "\n",
    "## Making Initial Contact with Your Client\n",
    "\n",
    "You should contact your client via their provided email address. Your\n",
    "initial contact should introduce your team members and decide on a\n",
    "convenient time to conduct a first meeting.\n",
    "\n",
    "To decide a common time to meet, you can use a scheduling tool, like\n",
    "[When2Meet](https://www.when2meet.com), to elicit their availability.\n",
    "\n",
    "### Creating Meeting Invites\n",
    "\n",
    "Once an available time has been decided with your client, the Product\n",
    "Owner should send them a calendar invite for the meeting. This way, both\n",
    "your team and the client will not forget. Instructions on how to do this\n",
    "can be found [here](https://support.google.com/calendar/answer/72143?hl=en&co=GENIE.Platform%3DDesktop#zippy=).\n",
    "\n",
    "If the meeting will take place virtually, you can make use of the free\n",
    "Zoom account provided by the university to schedule Zoom meetings.\n",
    "Please follow the instructions to set up Zoom scheduling with your\n",
    "university Gmail account [here](https://workspace.google.com/marketplace/app/zoom_for_gmail/585972765488).\n",
    "\n",
    "## During Client Meetings\n",
    "\n",
    "Once a meeting is set with the client, the team should set up the\n",
    "Confluence page for the meeting - please see the chapter on document\n",
    "repositories for more information.\n",
    "\n",
    "During the meeting, there are several roles that need to be filled by\n",
    "members of the development team:\n",
    "\n",
    "| Roles               | Responsibilities                                                                                                                                                                                                                                                                                                                                                  |\n",
    "|---------------------|-------------------------------------------------------------------------------------------------------------------------------------------------------------------------------------------------------------------------------------------------------------------------------------------------------------------------------------------------------------------|\n",
    "| Meeting Coordinator | It is generally a good idea to set one person as the meeting coordinator. This person is not responsible for speaking the entire time, but they are responsible for making sure the meeting has structure and direction, and that all questions in the agenda are asked and answered. All team members are encouraged to talk and ask questions during a meeting. |\n",
    "| Minute Taker        | This person is responsible for ensuring all discussions are well-documented (in Confluence). They are also responsible for emailing the minutes taken during a meeting to the client (within a day or two of the meeting).                                                                                                                                        |\n",
    "\n",
    "## After Client Meetings\n",
    "\n",
    "At the conclusion of a client meeting, the Minute Taker should email the\n",
    "client with the minutes they wrote. You don't need to send the entire\n",
    "copy of notes (which can take a long time for your client to read). You\n",
    "could write down the main points in the meeting notes. Doing so will\n",
    "allow the client to correct any mistakes and makes sure the team does\n",
    "not waste time on work that is incorrect.\n",
    "\n",
    "## Sharing a Team Calendar\n",
    "\n",
    "In large teams, it can be difficult to keep up with the number of\n",
    "meetings that take place. There are tools that take out the hassle of\n",
    "coordinating meeting invitations and reminders.\n",
    "\n",
    "One that works well is [Google Calendar for Slack](https://slack.com/intl/en-au/help/articles/206329808-Google-Calendar-for-Slack).\n",
    "It can remind team members of meetings from directly in Slack if this is\n",
    "your chosen communications channel. If you have chosen a different\n",
    "application, you are welcome to search for plug-ins that work between it\n",
    "and Google Calendar (the default for university).\n",
    "\n",
    "## Logging Client Communications\n",
    "\n",
    "All important decisions and milestones reached with the client via email\n",
    "should be logged in the team's Confluence. This is to foster a shared\n",
    "understanding of agreements reached with the client. Your supervisor\n",
    "generally will not attend client meetings, so this also allows them to\n",
    "stay informed. You can do this by creating a client log in your document\n",
    "repository:\n",
    "\n",
    "![](resources/confluence.png)\n",
    "\n",
    "The communication itself should then be logged:\n",
    "\n",
    "![](resources/communications.png)\n",
    "\n",
    "```{admonition} Extra Resources\n",
    "One of our tutors made a helpful video to show how to organise meetings.\n",
    "```"
   ]
  },
  {
   "cell_type": "code",
   "execution_count": 1,
   "metadata": {
    "collapsed": false,
    "pycharm": {
     "name": "#%%\n"
    }
   },
   "outputs": [
    {
     "data": {
      "image/jpeg": "[encoded data removed]",
      "text/html": [
       "\n",
       "<iframe\n",
       "    width=\"400\"\n",
       "    height=\"300\"\n",
       "    src=\"https://www.youtube.com/embed/VKmzozlgc7Y\"\n",
       "    frameborder=\"0\"\n",
       "    allowfullscreen\n",
       "\n",
       "></iframe>\n"
      ],
      "text/plain": [
       "<IPython.lib.display.YouTubeVideo at 0x1059a1ac0>"
      ]
     },
     "execution_count": 1,
     "metadata": {
      "filenames": {
       "image/jpeg": "/Users/lukerosa/Documents/Employment/University of Melbourne, The/CIS Projects/project_based_course_notes/_build/jupyter_execute/chapter_2/client_communications_1_0.jpg"
      }
     },
     "output_type": "execute_result"
    }
   ],
   "source": [
    "from IPython.display import YouTubeVideo\n",
    "\n",
    "YouTubeVideo('VKmzozlgc7Y')"
   ]
  }
 ],
 "metadata": {
  "kernelspec": {
   "display_name": "Python 3",
   "language": "python",
   "name": "python3"
  },
  "language_info": {
   "codemirror_mode": {
    "name": "ipython",
    "version": 3
   },
   "file_extension": ".py",
   "mimetype": "text/x-python",
   "name": "python",
   "nbconvert_exporter": "python",
   "pygments_lexer": "ipython3",
   "version": "3.9.10"
  }
 },
 "nbformat": 4,
 "nbformat_minor": 0
}