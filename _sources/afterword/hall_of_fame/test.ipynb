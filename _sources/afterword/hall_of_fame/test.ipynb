{
 "cells": [
  {
   "cell_type": "markdown",
   "source": [
    "# Collaborate With Us\n",
    "\n",
    "Do you have ideas how to improve these notes?"
   ],
   "metadata": {
    "collapsed": false,
    "pycharm": {
     "name": "#%% md\n"
    }
   }
  },
  {
   "cell_type": "code",
   "execution_count": null,
   "outputs": [],
   "source": [
    "from IPython.display import HTML\n",
    "HTML(\n",
    "\"\"\"\n",
    "<iframe\n",
    "    src=\"https://docs.google.com/forms/d/e/1FAIpQLSeeyJGe9mcWgbCuMSsDcMQQPkGOqxnA1w6w8Y0qQ2Oo6rTsyg/viewform?embedded=true\"\n",
    "    width=\"640\"\n",
    "    height=\"919\"\n",
    "    frameborder=\"0\"\n",
    "    marginheight=\"0\"\n",
    "    marginwidth=\"0\">\n",
    "    Loading…\n",
    "</iframe>\n",
    "\"\"\"\n",
    ")"
   ],
   "metadata": {
    "collapsed": false,
    "pycharm": {
     "name": "#%%\n"
    }
   }
  }
 ],
 "metadata": {
  "kernelspec": {
   "display_name": "Python 3",
   "language": "python",
   "name": "python3"
  },
  "language_info": {
   "codemirror_mode": {
    "name": "ipython",
    "version": 2
   },
   "file_extension": ".py",
   "mimetype": "text/x-python",
   "name": "python",
   "nbconvert_exporter": "python",
   "pygments_lexer": "ipython2",
   "version": "2.7.6"
  }
 },
 "nbformat": 4,
 "nbformat_minor": 0
}