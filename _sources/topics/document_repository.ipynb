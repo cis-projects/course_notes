{
 "cells": [
  {
   "cell_type": "markdown",
   "metadata": {
    "pycharm": {
     "name": "#%% md\n"
    }
   },
   "source": [
    "# Document Repository\n",
    "\n",
    "Throughout the semester, you and your team will generate a lot of\n",
    "knowledge - in the form of software requirements, architecture, and\n",
    "testing documents, etc. This knowledge will need to be centrally stored,\n",
    "so it is accessible to the entire team and to the client at handover.\n",
    "\n",
    "Document repositories solve this issue by acting as a central store of\n",
    "all project information and should be the first place your team\n",
    "references when searching for information.\n",
    "\n",
    "There are many options for document repository software, but in this\n",
    "subject, we strongly encourage the use of Confluence.\n",
    "\n",
    "Confluence is the industry leader and is a good tool to familiarise\n",
    "yourself with, if you wish to work as a software engineer as most\n",
    "companies use it.\n",
    "\n",
    "## Creating Your Team's Space\n",
    "\n",
    "The first step is to create your team's Confluence space. Only one team\n",
    "member needs to do this and then grant every other team member access.\n",
    "\n",
    "To set up the space, please follow these instructions:\n"
   ]
  },
  {
   "cell_type": "code",
   "execution_count": null,
   "metadata": {
    "collapsed": false,
    "jupyter": {
     "outputs_hidden": false
    },
    "pycharm": {
     "name": "#%%\n"
    },
    "tags": [
     "remove-input"
    ]
   },
   "outputs": [],
   "source": [
    "from IPython.display import YouTubeVideo\n",
    "\n",
    "YouTubeVideo('FFF4D4I19ms')"
   ]
  },
  {
   "cell_type": "markdown",
   "source": [
    "## Set Up Your Space\n",
    "\n",
    "Once created, it is very important to structure your space in a way that\n",
    "makes it easy to navigate.\n",
    "\n",
    "You can begin by setting up your home page. The home page should\n",
    "contain:\n",
    "\n",
    "-   Project summary.\n",
    "-   Details of the client, supervisor, and development team.\n",
    "-   Important links to other tools, for example, links to task tracking,\n",
    "    code repository, etc.\n",
    "\n",
    "```{figure} resources/home_page.png\n",
    "---\n",
    "name: home_page\n",
    "---\n",
    "```\n",
    "\n",
    "Once the home page is set up, the next pages to create are meeting\n",
    "pages. Over the semester, you will be required to hold team, client, and\n",
    "supervisor meetings, and you are expected to keep minutes for all\n",
    "meetings.\n",
    "\n",
    "So, one logical way of structuring the Confluence space could be:\n",
    "\n",
    "```{figure} resources/meetings.png\n",
    "---\n",
    "name: meetings\n",
    "---\n",
    "```\n",
    "\n",
    "There should be a relative frequency of meetings. Supervisor meetings\n",
    "should occur weekly, team meetings should occur a few times each week,\n",
    "and client meetings should occur every few weeks. It is very important\n",
    "you create a log of each meeting:\n",
    "\n",
    "```{figure} resources/meeting_structure.png\n",
    "---\n",
    "name: meeting_structure\n",
    "---\n",
    "```\n",
    "\n",
    "In the meeting page itself, your team should log:\n",
    "\n",
    "-   Agenda, so teammates can create questions in advance of the meeting.\n",
    "-   Participants present during the meeting.\n",
    "-   A video and audio recording of the meetings (only necessary for client meetings).\n",
    "-   All discussion items and decisions reached.\n",
    "-   All action items with an assigned teammate who is responsible for\n",
    "    the action.\n",
    "\n",
    "```{figure} resources/meeting_page.png\n",
    "---\n",
    "name: meeting_page\n",
    "---\n",
    "```\n",
    "\n",
    "```{warning}\n",
    "Throughout the semester you will be developing a\n",
    "lot of resources that will need to be stored in Confluence. Please make\n",
    "sure you put thought into the structure of your space. If a teammate is\n",
    "unable to find work, it may result in duplication of tasks. If the\n",
    "client or marker is unable to find work, they may believe you have not\n",
    "done it.\n",
    "```"
   ],
   "metadata": {
    "collapsed": false
   }
  }
 ],
 "metadata": {
  "kernelspec": {
   "display_name": "Python 3 (ipykernel)",
   "language": "python",
   "name": "python3"
  },
  "language_info": {
   "codemirror_mode": {
    "name": "ipython",
    "version": 3
   },
   "file_extension": ".py",
   "mimetype": "text/x-python",
   "name": "python",
   "nbconvert_exporter": "python",
   "pygments_lexer": "ipython3",
   "version": "3.9.7"
  }
 },
 "nbformat": 4,
 "nbformat_minor": 4
}