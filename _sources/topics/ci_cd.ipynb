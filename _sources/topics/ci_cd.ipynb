{
 "cells": [
  {
   "cell_type": "markdown",
   "metadata": {
    "collapsed": true,
    "pycharm": {
     "name": "#%% md\n"
    }
   },
   "source": [
    "# Adding CI/CD to Your Project\n",
    "\n",
    "```{note}\n",
    "There are many tools available to create a CI/CD pipeline. This\n",
    "guide will demonstrate the use of GitHub Actions.\n",
    "```\n",
    "\n",
    "## GitHub Actions\n",
    "\n",
    "| Key Terms | Meaning                                                                                                                          |\n",
    "|-----------|----------------------------------------------------------------------------------------------------------------------------------|\n",
    "| Workflows | Automated procedure that can be triggered by some event. Written in YAML.                                                        |\n",
    "| Events    | An activity that triggers a workflow to be executed. For example, pushes to main branch.                                         |\n",
    "| Jobs      | Set of steps that execute on the same runner. Multiple jobs run in parallel.                                                     |\n",
    "| Steps     | Individual task that runs command within a job. Executes shell commands or actions. Multiple steps run sequentially.             |\n",
    "| Actions   | Standalone commands that are combined into steps. There are actions published by the Github community which you can use as well. |\n",
    "| Runner    | The server that the workflows run within.                                                                                        |\n",
    "\n",
    "### Create Your First Workflow\n",
    "\n",
    "1. Create a directory from the root of your repository called\n",
    "    .github/workflows.\n",
    "2. Create a new file for your workflow. You can name this anything, but\n",
    "    it must be a YAML file. For example, ci-cd.yaml.\n",
    "3. Add the following example workflow and modify/add steps as required.\n",
    "\n",
    "```\n",
    "name**:** learn-github-actions\\\n",
    "on**:** **\\[**push**\\]**\\\n",
    "jobs**:**\\\n",
    "check-bats-version**:**\\\n",
    "runs-on**:** ubuntu-latest\\\n",
    "steps**:**\\\n",
    "**-** uses**:** actions/checkout@v2\\\n",
    "**-** uses**:** actions/setup-node@v2\\\n",
    "with**:**\\\n",
    "node-version**:** \\'14\\'\\\n",
    "**-** run**:** npm install -g bats\\\n",
    "**-** run**:** bats -v\n",
    "```\n",
    "\n",
    "The steps above were obtained from the GitHub Actions\n",
    "[documentation](https://docs.github.com/en/actions/learn-github-actions/understanding-github-actions#create-an-example-workflow).\n",
    "\n",
    "### Understanding the Workflow Syntax\n",
    "\n",
    "```{figure} resources/ci_cd_workflow.png\n",
    "---\n",
    "name: workflow\n",
    "```\n",
    "\n",
    "### Viewing Your Workflow Execution\n",
    "\n",
    "Once your workflow is triggered, you should be able to see its execution\n",
    "under the Actions tab in your GitHub repository. If any step fails,\n",
    "GitHub will clearly indicate the step that failed and show any logs that\n",
    "can be useful to understand why it has failed.\n",
    "\n",
    "### Steps to Include in Your Pipeline\n",
    "\n",
    "1. Build your application\n",
    "    1.  Install necessary dependencies\n",
    "2. Perform any formatting/linting checks\n",
    "3. Test your application\n",
    "    1.  Unit testing\n",
    "    2.  Integration testing\n",
    "\n",
    ":::{admonition} Extra Resources\n",
    ":class: tip\n",
    "\n",
    "To build your first project using GitHub Actions, you can take\n",
    "[GitHub's free course](https://lab.github.com/githubtraining/github-actions:-hello-world).\n",
    ":::"
   ]
  },
  {
   "cell_type": "code",
   "execution_count": null,
   "metadata": {
    "pycharm": {
     "name": "#%%\n"
    },
    "tags": [
     "remove-input"
    ]
   },
   "outputs": [],
   "source": [
    "from IPython.display import YouTubeVideo\n",
    "\n",
    "YouTubeVideo('5MJRtldPOEI')"
   ]
  }
 ],
 "metadata": {
  "celltoolbar": "Tags",
  "kernelspec": {
   "display_name": "Python 3 (ipykernel)",
   "language": "python",
   "name": "python3"
  },
  "language_info": {
   "codemirror_mode": {
    "name": "ipython",
    "version": 3
   },
   "file_extension": ".py",
   "mimetype": "text/x-python",
   "name": "python",
   "nbconvert_exporter": "python",
   "pygments_lexer": "ipython3",
   "version": "3.9.7"
  }
 },
 "nbformat": 4,
 "nbformat_minor": 1
}