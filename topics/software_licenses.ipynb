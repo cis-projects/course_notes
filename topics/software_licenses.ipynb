{
 "cells": [
  {
   "cell_type": "markdown",
   "source": [
    "# Software Licenses\n",
    "\n",
    ":::{admonition} Acknowledgements\n",
    ":class: note\n",
    "\n",
    "This page was created (and kindly shared with us) by [Patanamon (Pick) Thongtanunam](https://patanamon.com/).\n",
    ":::"
   ],
   "metadata": {
    "collapsed": false
   }
  },
  {
   "cell_type": "code",
   "execution_count": null,
   "metadata": {
    "collapsed": true,
    "tags": [
     "hide-input"
    ]
   },
   "outputs": [],
   "source": [
    "from IPython.display import YouTubeVideo\n",
    "\n",
    "YouTubeVideo('JUBz8f0BdPw')"
   ]
  }
 ],
 "metadata": {
  "celltoolbar": "Tags",
  "kernelspec": {
   "display_name": "Python 3 (ipykernel)",
   "language": "python",
   "name": "python3"
  },
  "language_info": {
   "codemirror_mode": {
    "name": "ipython",
    "version": 3
   },
   "file_extension": ".py",
   "mimetype": "text/x-python",
   "name": "python",
   "nbconvert_exporter": "python",
   "pygments_lexer": "ipython3",
   "version": "3.9.7"
  }
 },
 "nbformat": 4,
 "nbformat_minor": 1
}